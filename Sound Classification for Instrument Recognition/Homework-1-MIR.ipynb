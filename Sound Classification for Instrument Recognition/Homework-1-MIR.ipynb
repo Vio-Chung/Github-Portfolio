{
 "cells": [
  {
   "cell_type": "markdown",
   "metadata": {
    "id": "R806J62uPgUs"
   },
   "source": [
    "# MPATE-GE 2623 - Music Information Retrieval\n",
    "## Homework 1\n",
    "\n",
    "**Instructions:**\n",
    "\n",
    "1. Complete parts 1 through 5, filling in code in the `utils.py` file where indicated **# YOUR CODE HERE** or responses in `this notebook` where marked with **# YOUR RESPONSE HERE** or **# YOUR CODE HERE**.\n",
    "2. **Document** your code. Add comments explaining what the different parts of your code are doing.\n",
    "3. If you copy code from external resources (e.g. librosa's examples), include references as comments.\n",
    "4. When finished, commit and push this completed notebook file along with the `utils.py` file to your GitHub repository corresponding to this homework.\n",
    "5. IMPORTANT: do not modify any of the provided code.\n",
    "\n",
    "**How to work with the `utils.py` file and Google Colab:**\n",
    "\n",
    "You can run your code remotely with Google Colab if you add the `utils.py` file to your files' folder (search for the folder icon in the menu on the left). But **CAREFUL**, you should copy any changes you make to `utils.py` in Colab to a local copy. Each time you re-start a session the changes of any file in the files folder are lost.\n",
    "\n",
    "**Grading:**\n",
    "\n",
    "- This homework is worth 10 points.\n",
    "- Each function you code in `utils.py` is worth 1 point, for a total of 7 points.\n",
    "- Each answer in part 5 is worth 1 point, for a total of 3 points.\n",
    "- Points will be automatically assigned when passing tests, and manually assigned when it comes to your written responses.\n",
    "\n",
    "**Academic integrity:**\n",
    "\n",
    "Remember that this homework should be authored by you only. It's ok to discuss with classmates but you have to submit your own original solution.\n"
   ]
  },
  {
   "cell_type": "markdown",
   "metadata": {
    "id": "DWEFX-rj7ffh"
   },
   "source": [
    "## Sound Classification for Instrument Recognition\n",
    "---\n",
    "\n",
    "In this homework, we will explore the task of recognizing musical instruments based solely on their sound profiles. This involves distinguishing the nuanced tonal characteristics that each instrument produces, such as the sharp resonance of a violin versus the deep hum of a cello or the distinct timbre of a flute compared to a clarinet.\n",
    "\n",
    "Starting from an available dataset of samples from different instruments, we will extract timbre-related features from the audio. Once processed, the data will be segmented into training, validation, and testing sets to ensure the model's robustness and generalization capabilities.\n",
    "\n",
    "Using a simple model, we will analyze and critic its performance, trying to explain its behaviour to be able to improve it in the future."
   ]
  },
  {
   "cell_type": "code",
   "execution_count": 1,
   "metadata": {
    "colab": {
     "base_uri": "https://localhost:8080/"
    },
    "id": "438lLs6xBXEf",
    "outputId": "d6932469-443d-46d3-db67-4bb26a95f464"
   },
   "outputs": [
    {
     "name": "stdout",
     "output_type": "stream",
     "text": [
      "Collecting mirdata\n",
      "  Downloading mirdata-0.3.7-py3-none-any.whl (14.9 MB)\n",
      "\u001b[2K     \u001b[90m━━━━━━━━━━━━━━━━━━━━━━━━━━━━━━━━━━━━━━━━\u001b[0m \u001b[32m14.9/14.9 MB\u001b[0m \u001b[31m21.3 MB/s\u001b[0m eta \u001b[36m0:00:00\u001b[0m\n",
      "\u001b[?25hRequirement already satisfied: tqdm in /usr/local/lib/python3.10/dist-packages (from mirdata) (4.66.1)\n",
      "Requirement already satisfied: librosa>=0.8.0 in /usr/local/lib/python3.10/dist-packages (from mirdata) (0.10.1)\n",
      "Requirement already satisfied: numpy>=1.16 in /usr/local/lib/python3.10/dist-packages (from mirdata) (1.23.5)\n",
      "Collecting jams (from mirdata)\n",
      "  Downloading jams-0.3.4.tar.gz (51 kB)\n",
      "\u001b[2K     \u001b[90m━━━━━━━━━━━━━━━━━━━━━━━━━━━━━━━━━━━━━━━━\u001b[0m \u001b[32m51.3/51.3 kB\u001b[0m \u001b[31m4.5 MB/s\u001b[0m eta \u001b[36m0:00:00\u001b[0m\n",
      "\u001b[?25h  Preparing metadata (setup.py) ... \u001b[?25l\u001b[?25hdone\n",
      "Requirement already satisfied: requests in /usr/local/lib/python3.10/dist-packages (from mirdata) (2.31.0)\n",
      "Collecting pretty-midi>=0.2.8 (from mirdata)\n",
      "  Downloading pretty_midi-0.2.10.tar.gz (5.6 MB)\n",
      "\u001b[2K     \u001b[90m━━━━━━━━━━━━━━━━━━━━━━━━━━━━━━━━━━━━━━━━\u001b[0m \u001b[32m5.6/5.6 MB\u001b[0m \u001b[31m73.0 MB/s\u001b[0m eta \u001b[36m0:00:00\u001b[0m\n",
      "\u001b[?25h  Preparing metadata (setup.py) ... \u001b[?25l\u001b[?25hdone\n",
      "Requirement already satisfied: chardet in /usr/local/lib/python3.10/dist-packages (from mirdata) (5.2.0)\n",
      "Requirement already satisfied: pyyaml in /usr/local/lib/python3.10/dist-packages (from mirdata) (6.0.1)\n",
      "Requirement already satisfied: scipy in /usr/local/lib/python3.10/dist-packages (from mirdata) (1.11.3)\n",
      "Requirement already satisfied: h5py>=2.10.0 in /usr/local/lib/python3.10/dist-packages (from mirdata) (3.9.0)\n",
      "Requirement already satisfied: smart-open>=5.0.0 in /usr/local/lib/python3.10/dist-packages (from mirdata) (6.4.0)\n",
      "Collecting Deprecated>=1.2.13 (from mirdata)\n",
      "  Downloading Deprecated-1.2.14-py2.py3-none-any.whl (9.6 kB)\n",
      "Requirement already satisfied: pandas>=1.0.0 in /usr/local/lib/python3.10/dist-packages (from mirdata) (1.5.3)\n",
      "Requirement already satisfied: wrapt<2,>=1.10 in /usr/local/lib/python3.10/dist-packages (from Deprecated>=1.2.13->mirdata) (1.15.0)\n",
      "Requirement already satisfied: audioread>=2.1.9 in /usr/local/lib/python3.10/dist-packages (from librosa>=0.8.0->mirdata) (3.0.1)\n",
      "Requirement already satisfied: scikit-learn>=0.20.0 in /usr/local/lib/python3.10/dist-packages (from librosa>=0.8.0->mirdata) (1.2.2)\n",
      "Requirement already satisfied: joblib>=0.14 in /usr/local/lib/python3.10/dist-packages (from librosa>=0.8.0->mirdata) (1.3.2)\n",
      "Requirement already satisfied: decorator>=4.3.0 in /usr/local/lib/python3.10/dist-packages (from librosa>=0.8.0->mirdata) (4.4.2)\n",
      "Requirement already satisfied: numba>=0.51.0 in /usr/local/lib/python3.10/dist-packages (from librosa>=0.8.0->mirdata) (0.56.4)\n",
      "Requirement already satisfied: soundfile>=0.12.1 in /usr/local/lib/python3.10/dist-packages (from librosa>=0.8.0->mirdata) (0.12.1)\n",
      "Requirement already satisfied: pooch>=1.0 in /usr/local/lib/python3.10/dist-packages (from librosa>=0.8.0->mirdata) (1.7.0)\n",
      "Requirement already satisfied: soxr>=0.3.2 in /usr/local/lib/python3.10/dist-packages (from librosa>=0.8.0->mirdata) (0.3.6)\n",
      "Requirement already satisfied: typing-extensions>=4.1.1 in /usr/local/lib/python3.10/dist-packages (from librosa>=0.8.0->mirdata) (4.5.0)\n",
      "Requirement already satisfied: lazy-loader>=0.1 in /usr/local/lib/python3.10/dist-packages (from librosa>=0.8.0->mirdata) (0.3)\n",
      "Requirement already satisfied: msgpack>=1.0 in /usr/local/lib/python3.10/dist-packages (from librosa>=0.8.0->mirdata) (1.0.7)\n",
      "Requirement already satisfied: python-dateutil>=2.8.1 in /usr/local/lib/python3.10/dist-packages (from pandas>=1.0.0->mirdata) (2.8.2)\n",
      "Requirement already satisfied: pytz>=2020.1 in /usr/local/lib/python3.10/dist-packages (from pandas>=1.0.0->mirdata) (2023.3.post1)\n",
      "Collecting mido>=1.1.16 (from pretty-midi>=0.2.8->mirdata)\n",
      "  Downloading mido-1.3.0-py3-none-any.whl (50 kB)\n",
      "\u001b[2K     \u001b[90m━━━━━━━━━━━━━━━━━━━━━━━━━━━━━━━━━━━━━━━━\u001b[0m \u001b[32m50.3/50.3 kB\u001b[0m \u001b[31m5.6 MB/s\u001b[0m eta \u001b[36m0:00:00\u001b[0m\n",
      "\u001b[?25hRequirement already satisfied: six in /usr/local/lib/python3.10/dist-packages (from pretty-midi>=0.2.8->mirdata) (1.16.0)\n",
      "Requirement already satisfied: sortedcontainers>=2.0.0 in /usr/local/lib/python3.10/dist-packages (from jams->mirdata) (2.4.0)\n",
      "Requirement already satisfied: jsonschema>=3.0.0 in /usr/local/lib/python3.10/dist-packages (from jams->mirdata) (4.19.1)\n",
      "Collecting mir_eval>=0.5 (from jams->mirdata)\n",
      "  Downloading mir_eval-0.7.tar.gz (90 kB)\n",
      "\u001b[2K     \u001b[90m━━━━━━━━━━━━━━━━━━━━━━━━━━━━━━━━━━━━━━━━\u001b[0m \u001b[32m90.7/90.7 kB\u001b[0m \u001b[31m10.4 MB/s\u001b[0m eta \u001b[36m0:00:00\u001b[0m\n",
      "\u001b[?25h  Preparing metadata (setup.py) ... \u001b[?25l\u001b[?25hdone\n",
      "Requirement already satisfied: charset-normalizer<4,>=2 in /usr/local/lib/python3.10/dist-packages (from requests->mirdata) (3.2.0)\n",
      "Requirement already satisfied: idna<4,>=2.5 in /usr/local/lib/python3.10/dist-packages (from requests->mirdata) (3.4)\n",
      "Requirement already satisfied: urllib3<3,>=1.21.1 in /usr/local/lib/python3.10/dist-packages (from requests->mirdata) (2.0.5)\n",
      "Requirement already satisfied: certifi>=2017.4.17 in /usr/local/lib/python3.10/dist-packages (from requests->mirdata) (2023.7.22)\n",
      "Requirement already satisfied: attrs>=22.2.0 in /usr/local/lib/python3.10/dist-packages (from jsonschema>=3.0.0->jams->mirdata) (23.1.0)\n",
      "Requirement already satisfied: jsonschema-specifications>=2023.03.6 in /usr/local/lib/python3.10/dist-packages (from jsonschema>=3.0.0->jams->mirdata) (2023.7.1)\n",
      "Requirement already satisfied: referencing>=0.28.4 in /usr/local/lib/python3.10/dist-packages (from jsonschema>=3.0.0->jams->mirdata) (0.30.2)\n",
      "Requirement already satisfied: rpds-py>=0.7.1 in /usr/local/lib/python3.10/dist-packages (from jsonschema>=3.0.0->jams->mirdata) (0.10.3)\n",
      "Requirement already satisfied: packaging~=23.1 in /usr/local/lib/python3.10/dist-packages (from mido>=1.1.16->pretty-midi>=0.2.8->mirdata) (23.1)\n",
      "Requirement already satisfied: future in /usr/local/lib/python3.10/dist-packages (from mir_eval>=0.5->jams->mirdata) (0.18.3)\n",
      "Requirement already satisfied: llvmlite<0.40,>=0.39.0dev0 in /usr/local/lib/python3.10/dist-packages (from numba>=0.51.0->librosa>=0.8.0->mirdata) (0.39.1)\n",
      "Requirement already satisfied: setuptools in /usr/local/lib/python3.10/dist-packages (from numba>=0.51.0->librosa>=0.8.0->mirdata) (67.7.2)\n",
      "Requirement already satisfied: platformdirs>=2.5.0 in /usr/local/lib/python3.10/dist-packages (from pooch>=1.0->librosa>=0.8.0->mirdata) (3.10.0)\n",
      "Requirement already satisfied: threadpoolctl>=2.0.0 in /usr/local/lib/python3.10/dist-packages (from scikit-learn>=0.20.0->librosa>=0.8.0->mirdata) (3.2.0)\n",
      "Requirement already satisfied: cffi>=1.0 in /usr/local/lib/python3.10/dist-packages (from soundfile>=0.12.1->librosa>=0.8.0->mirdata) (1.16.0)\n",
      "Requirement already satisfied: pycparser in /usr/local/lib/python3.10/dist-packages (from cffi>=1.0->soundfile>=0.12.1->librosa>=0.8.0->mirdata) (2.21)\n",
      "Building wheels for collected packages: pretty-midi, jams, mir_eval\n",
      "  Building wheel for pretty-midi (setup.py) ... \u001b[?25l\u001b[?25hdone\n",
      "  Created wheel for pretty-midi: filename=pretty_midi-0.2.10-py3-none-any.whl size=5592287 sha256=80d890961253b9853116d15e2db885df8bbf44a89bff883e0982d769855a8d94\n",
      "  Stored in directory: /root/.cache/pip/wheels/cd/a5/30/7b8b7f58709f5150f67f98fde4b891ebf0be9ef07a8af49f25\n",
      "  Building wheel for jams (setup.py) ... \u001b[?25l\u001b[?25hdone\n",
      "  Created wheel for jams: filename=jams-0.3.4-py3-none-any.whl size=64900 sha256=0f2217e14904dbc0f3e796f0d2e54b9900189d5d2f0af65873ea04b7e721cdb5\n",
      "  Stored in directory: /root/.cache/pip/wheels/28/9a/f7/fb386b6bc5a75a3ef198a50e98b221e94a381472332b65cf24\n",
      "  Building wheel for mir_eval (setup.py) ... \u001b[?25l\u001b[?25hdone\n",
      "  Created wheel for mir_eval: filename=mir_eval-0.7-py3-none-any.whl size=100703 sha256=2a2ce44a92e5e4f2397fa0fa0946d158ad6f386cd864e50f4c0ff6f026cf53a4\n",
      "  Stored in directory: /root/.cache/pip/wheels/3e/2f/0d/dda9c4c77a170e21356b6afa2f7d9bb078338634ba05d94e3f\n",
      "Successfully built pretty-midi jams mir_eval\n",
      "Installing collected packages: mido, Deprecated, pretty-midi, mir_eval, jams, mirdata\n",
      "Successfully installed Deprecated-1.2.14 jams-0.3.4 mido-1.3.0 mir_eval-0.7 mirdata-0.3.7 pretty-midi-0.2.10\n"
     ]
    }
   ],
   "source": [
    "# We will use mirdata to load and handle the data\n",
    "# See https://mirdata.readthedocs.io/en/stable/source/overview.html\n",
    "!pip install mirdata # install mirdata"
   ]
  },
  {
   "cell_type": "code",
   "execution_count": 2,
   "metadata": {
    "id": "RpP1tpYZDMnh"
   },
   "outputs": [],
   "source": [
    "# This notebook is for visualization and written answers only\n",
    "# Your code should go in utils.py\n",
    "import utils as u # to use the functions from utils, do u.function()"
   ]
  },
  {
   "cell_type": "code",
   "execution_count": 3,
   "metadata": {
    "id": "SqPxykaCTSTc"
   },
   "outputs": [],
   "source": [
    "# Fix the random seed for reproducibility\n",
    "from numpy.random import seed\n",
    "seed(123)"
   ]
  },
  {
   "cell_type": "code",
   "execution_count": 4,
   "metadata": {
    "colab": {
     "base_uri": "https://localhost:8080/"
    },
    "id": "3lK1ZX6RngoH",
    "outputId": "b911b53b-a1dd-46dc-9b2b-b85467cbb614"
   },
   "outputs": [
    {
     "name": "stdout",
     "output_type": "stream",
     "text": [
      "Mounted at /content/drive\n"
     ]
    }
   ],
   "source": [
    "from google.colab import drive\n",
    "drive.mount('/content/drive')"
   ]
  },
  {
   "cell_type": "markdown",
   "metadata": {
    "id": "Vv-fAeKIPgUu"
   },
   "source": [
    "## Part 1 - Load the data and split it\n",
    "\n",
    "\n",
    "\n"
   ]
  },
  {
   "cell_type": "markdown",
   "metadata": {
    "id": "GtTHGEpZPgUt"
   },
   "source": [
    "For this assignment we will use a subset of the Medley-Solos-DB dataset:\n",
    "\n",
    "<blockquote>\n",
    "V. Lostanlen, C.E. Cella. Deep convolutional networks on the pitch spiral for musical instrument recognition. Proceedings of the International Society for Music Information Retrieval Conference (ISMIR), 2016.\n",
    "</blockquote>\n",
    "\n",
    "This dataset is accessible to you for this homework in\n",
    "[Google Drive](https://drive.google.com/file/d/1D8ji0ntQ2P72znec_7y9qdyNhXUtAslM/view?usp=sharing). To use it with this Colab notebook, you should download it and upload a copy on your Google Drive. You should create a `mir_datasets` folder and put the dataset there so it is accesible at `/content/drive/MyDrive/mir_datasets/medley_solos_db`."
   ]
  },
  {
   "cell_type": "markdown",
   "metadata": {
    "id": "lDpy1aP_Aw2A"
   },
   "source": [
    "### Part 1-A: Load the data using mirdata"
   ]
  },
  {
   "cell_type": "code",
   "execution_count": 5,
   "metadata": {
    "colab": {
     "base_uri": "https://localhost:8080/"
    },
    "id": "_VWydNP-y4ea",
    "outputId": "6bfbe818-fdfe-4fe4-cabd-8d68900988fc"
   },
   "outputs": [
    {
     "name": "stdout",
     "output_type": "stream",
     "text": [
      "Drive already mounted at /content/drive/; to attempt to forcibly remount, call drive.mount(\"/content/drive/\", force_remount=True).\n"
     ]
    }
   ],
   "source": [
    "# This snippet mounts your Drive so you can work with the dataset in it\n",
    "from google.colab import drive\n",
    "drive.mount('/content/drive/')"
   ]
  },
  {
   "cell_type": "code",
   "execution_count": 6,
   "metadata": {
    "id": "yuZrP2R4PgUu"
   },
   "outputs": [],
   "source": [
    "data_home = \"/content/drive/MyDrive/mir_datasets/mini_medley_solos_db\"\n",
    "dataset = u.load_data(data_home)"
   ]
  },
  {
   "cell_type": "code",
   "execution_count": 7,
   "metadata": {
    "colab": {
     "base_uri": "https://localhost:8080/"
    },
    "id": "_tCcsrIf5U46",
    "outputId": "c76b2a20-48f5-41b6-a77c-9ce9a453c67d"
   },
   "outputs": [
    {
     "data": {
      "text/plain": [
       "(array([0.05877648, 0.07739696, 0.06003392, ..., 0.00279894, 0.00765386,\n",
       "        0.01483029], dtype=float32),\n",
       " 22050)"
      ]
     },
     "execution_count": 7,
     "metadata": {},
     "output_type": "execute_result"
    }
   ],
   "source": [
    "# Check that the data loads correctly by loading a file\n",
    "dataset.track('68d07e70-ce82-5800-f6e9-7619afaaacca').audio"
   ]
  },
  {
   "cell_type": "markdown",
   "metadata": {
    "id": "xD_GDhjP8UF7"
   },
   "source": [
    "### Part 1-B: Divide the dataset into train, test, and validation splits\n",
    "\n",
    "\n"
   ]
  },
  {
   "cell_type": "code",
   "execution_count": 8,
   "metadata": {
    "colab": {
     "base_uri": "https://localhost:8080/"
    },
    "id": "UEvLXj1tdml5",
    "outputId": "4165ed9e-15fc-409e-a75a-640a0c7336cc"
   },
   "outputs": [
    {
     "name": "stdout",
     "output_type": "stream",
     "text": [
      "There are 584 tracks in the trainbing set\n",
      "There are 349 tracks in the validation set\n",
      "There are 1224 tracks in the test set\n"
     ]
    }
   ],
   "source": [
    "# run this to create the track lists\n",
    "tracks_train, tracks_validate, tracks_test = u.split_data(dataset.load_tracks())\n",
    "\n",
    "print(\"There are {} tracks in the trainbing set\".format(len(tracks_train)))\n",
    "print(\"There are {} tracks in the validation set\".format(len(tracks_validate)))\n",
    "print(\"There are {} tracks in the test set\".format(len(tracks_test)))"
   ]
  },
  {
   "cell_type": "markdown",
   "metadata": {
    "id": "qvr3khZgPgUy"
   },
   "source": [
    "## Part 2: Extract Features\n"
   ]
  },
  {
   "cell_type": "markdown",
   "metadata": {
    "id": "CQxVnZNkxlFV"
   },
   "source": [
    "### Part 2-A: Compute the MFCCs of a track\n"
   ]
  },
  {
   "cell_type": "code",
   "execution_count": 9,
   "metadata": {
    "colab": {
     "base_uri": "https://localhost:8080/"
    },
    "id": "IVw8yRg3PgUv",
    "outputId": "c9342765-5b7d-4fb8-db09-7f12a0d10aa8",
    "scrolled": true
   },
   "outputs": [
    {
     "name": "stdout",
     "output_type": "stream",
     "text": [
      "129 time frames, 19 mfcc coefficients\n"
     ]
    }
   ],
   "source": [
    "track = dataset.track('68d07e70-ce82-5800-f6e9-7619afaaacca')\n",
    "y_test, fs_test = track.audio\n",
    "\n",
    "mfcc = u.compute_mfccs(y_test, fs_test)\n",
    "print(\"{} time frames, {} mfcc coefficients\".format(mfcc.shape[0], mfcc.shape[1]))"
   ]
  },
  {
   "cell_type": "code",
   "execution_count": 10,
   "metadata": {
    "colab": {
     "base_uri": "https://localhost:8080/"
    },
    "id": "zO4A1qqilAOZ",
    "outputId": "d454a4eb-5512-4118-c47e-456ec72a8c05"
   },
   "outputs": [
    {
     "name": "stdout",
     "output_type": "stream",
     "text": [
      "[[136.21187     9.6748     11.945927  ...  12.31632     3.9818468\n",
      "    1.8055836]\n",
      " [153.32935   -31.639149    9.034548  ...  12.088223    4.5519133\n",
      "   -1.5009463]\n",
      " [151.36557   -27.870293   11.272245  ...  16.983894   12.299767\n",
      "    6.263132 ]\n",
      " ...\n",
      " [106.04661    12.016825  -11.142719  ...  41.80552    50.770973\n",
      "   42.934055 ]\n",
      " [106.69629     4.946666  -12.687835  ...  40.048676   50.778015\n",
      "   41.699295 ]\n",
      " [136.92305    15.469318    7.80909   ...  12.01635    18.463034\n",
      "   16.883736 ]]\n"
     ]
    }
   ],
   "source": [
    "print(mfcc)"
   ]
  },
  {
   "cell_type": "code",
   "execution_count": 11,
   "metadata": {
    "colab": {
     "base_uri": "https://localhost:8080/"
    },
    "id": "BSMFg5xagq0T",
    "outputId": "c26fe317-6ba9-485f-ef8b-957d8e301433"
   },
   "outputs": [
    {
     "name": "stdout",
     "output_type": "stream",
     "text": [
      "[136.21187  153.32935  151.36557  142.77704  147.68506  146.54025\n",
      " 143.41612  139.55243  119.48826  118.52585  112.458015 115.779144\n",
      " 110.19256   99.09914  105.50307  112.289955 109.053734 130.79575\n",
      " 142.85461  142.92151  157.21802  156.95413  154.76367  153.3414\n",
      " 150.10968  145.10931  145.46078  147.65057  134.91594  160.89893\n",
      " 154.59904  153.5749   155.849    152.87741  152.60565  156.43079\n",
      " 144.64624  145.7594   153.38785  156.55623  178.00171  154.95563\n",
      " 152.5907   155.84433  165.26599  167.19046  160.81808  155.49724\n",
      " 161.36487  157.57272  152.1626   145.988    143.35823  164.84383\n",
      " 152.61888  152.897    154.37628  153.01073  151.67102  144.8774\n",
      " 145.2261   139.9805   130.82799  135.07115  141.65103  147.24419\n",
      " 160.23547  160.0682   161.68126  158.47545  155.99658  153.12177\n",
      " 156.05103  151.89737  145.25772  150.25948  149.1717   143.03093\n",
      " 150.45796  141.24039  137.09393  146.09494  142.6029    99.85237\n",
      " 140.24837  138.42186  127.03859  141.65562  132.95032  131.414\n",
      " 134.2439   129.57022  131.49042  122.42958  127.217834 120.89354\n",
      " 118.54787  118.66484  117.52987  106.11449  100.73284  100.09543\n",
      "  97.329475  95.76544   88.979126  82.87245   79.69539   78.249344\n",
      "  81.059494  77.668106  79.44344   74.12387   76.01668   84.53138\n",
      "  78.17969   85.34485   86.43492   79.843124  79.12908   83.02196\n",
      "  83.254585  84.2749    96.03963  106.65256  104.739845 102.02701\n",
      " 106.04661  106.69629  136.92305 ]\n"
     ]
    }
   ],
   "source": [
    "print(mfcc[:,0])"
   ]
  },
  {
   "cell_type": "code",
   "execution_count": 12,
   "metadata": {
    "colab": {
     "base_uri": "https://localhost:8080/"
    },
    "id": "a5Qi1TdFhHhT",
    "outputId": "632d7174-b5ca-487a-cd54-b8bfc21c3e45"
   },
   "outputs": [
    {
     "data": {
      "text/plain": [
       "129"
      ]
     },
     "execution_count": 12,
     "metadata": {},
     "output_type": "execute_result"
    }
   ],
   "source": [
    "len(mfcc[:,0]) #rows"
   ]
  },
  {
   "cell_type": "code",
   "execution_count": 13,
   "metadata": {
    "colab": {
     "base_uri": "https://localhost:8080/"
    },
    "id": "UmrOGEbDhMJQ",
    "outputId": "2a584aaa-fbdf-468b-e43c-caafa4425c7f"
   },
   "outputs": [
    {
     "data": {
      "text/plain": [
       "19"
      ]
     },
     "execution_count": 13,
     "metadata": {},
     "output_type": "execute_result"
    }
   ],
   "source": [
    "len(mfcc[0,:]) #columns"
   ]
  },
  {
   "cell_type": "markdown",
   "metadata": {
    "id": "vJ2kTa8qPgUv"
   },
   "source": [
    "### Part 2-B: Compute summary statistics\n",
    "\n",
    "\n"
   ]
  },
  {
   "cell_type": "code",
   "execution_count": 14,
   "metadata": {
    "id": "FAiw6DkWPgUv"
   },
   "outputs": [],
   "source": [
    "import numpy as np\n",
    "import matplotlib.pyplot as plt\n",
    "%matplotlib inline"
   ]
  },
  {
   "cell_type": "code",
   "execution_count": 15,
   "metadata": {
    "colab": {
     "base_uri": "https://localhost:8080/",
     "height": 487
    },
    "id": "o_AQ1ABXPgUw",
    "outputId": "91809b98-e52b-4c99-f5ed-f950a4d4025a"
   },
   "outputs": [
    {
     "data": {
      "image/png": "[encoded data removed]",
      "text/plain": [
       "<Figure size 1000x500 with 2 Axes>"
      ]
     },
     "metadata": {},
     "output_type": "display_data"
    }
   ],
   "source": [
    "# test your function by running this code\n",
    "mean, std = u.get_stats(mfcc)\n",
    "\n",
    "f, (ax1, ax2) = plt.subplots(2, 1, figsize=(10,5), sharex=True)\n",
    "ax1.plot(np.arange(len(mean)), mean, 'o')\n",
    "ax1.set_title(\"MFCC Mean for one audio example\")\n",
    "ax1.set_ylabel(\"MFCC value\")\n",
    "ax2.plot(np.arange(len(std)), std, 'o')\n",
    "ax2.set_title(\"MFCC Standard Deviation for one audio example\")\n",
    "ax2.set_xlabel(\"Feature index\")\n",
    "ax2.set_ylabel(\"MFCC value\")\n",
    "\n",
    "plt.show()"
   ]
  },
  {
   "cell_type": "markdown",
   "metadata": {
    "id": "t6aUqchUIIHj"
   },
   "source": [
    "## Part 3: Prepare the Data\n"
   ]
  },
  {
   "cell_type": "markdown",
   "metadata": {
    "id": "2hVxKETrPgUx"
   },
   "source": [
    "### Part 3-A: Compute features for all data and reshape\n",
    "\n",
    "\n",
    "\n"
   ]
  },
  {
   "cell_type": "code",
   "execution_count": 16,
   "metadata": {
    "colab": {
     "base_uri": "https://localhost:8080/"
    },
    "id": "yzpzE0a-Sx7p",
    "outputId": "5743fe52-0f47-45bb-f758-5ee7b78fb271"
   },
   "outputs": [
    {
     "name": "stdout",
     "output_type": "stream",
     "text": [
      "Track(\n",
      "  audio_path=\"...asets/mini_medley_solos_db/audio/Medley-solos-DB_training-0_7c416d4b-2645-5033-f0fd-39aec452f809.wav\",\n",
      "  track_id=\"7c416d4b-2645-5033-f0fd-39aec452f809\",\n",
      "  audio: The track's audio\n",
      "\n",
      "        Returns,\n",
      "  instrument: ,\n",
      "  instrument_id: ,\n",
      "  song_id: ,\n",
      "  subset: ,\n",
      ")\n"
     ]
    }
   ],
   "source": [
    "print(tracks_train[1])"
   ]
  },
  {
   "cell_type": "code",
   "execution_count": 19,
   "metadata": {
    "id": "QwZ6RkaHGItk"
   },
   "outputs": [],
   "source": [
    "# run this to obtain features and labels for each data split\n",
    "# this can take some time.\n",
    "X_raw_train, Y_train = u.get_features_and_labels(tracks_train)\n",
    "X_raw_validate, Y_validate = u.get_features_and_labels(tracks_validate)\n",
    "X_raw_test, Y_test = u.get_features_and_labels(tracks_test)\n",
    "\n",
    "# save features so you don't have to run this again\n",
    "np.save('X_raw_train.npy', X_raw_train)\n",
    "np.save('X_raw_validate.npy', X_raw_validate)\n",
    "np.save('X_raw_test.npy', X_raw_test)\n",
    "\n",
    "np.save('Y_train.npy', Y_train)\n",
    "np.save('Y_validate.npy', Y_validate)\n",
    "np.save('Y_test.npy', Y_test)"
   ]
  },
  {
   "cell_type": "markdown",
   "metadata": {
    "id": "wB1-XmwSIGIE"
   },
   "source": [
    "### Part 3-B: Normalize the Data\n",
    "\n"
   ]
  },
  {
   "cell_type": "code",
   "execution_count": 20,
   "metadata": {
    "id": "L9Ui4Qg9PgUy"
   },
   "outputs": [],
   "source": [
    "# We normalize all features with the stats of the training data for assessing generalization\n",
    "\n",
    "# Load here the data if you saved the features!\n",
    "# ....\n",
    "\n",
    "mu, sigma = u.get_stats(X_raw_train)\n",
    "\n",
    "X_train = u.normalize(X_raw_train, mu, sigma)\n",
    "X_validate = u.normalize(X_raw_validate, mu, sigma)\n",
    "X_test = u.normalize(X_raw_test, mu, sigma)"
   ]
  },
  {
   "cell_type": "markdown",
   "metadata": {
    "id": "Y-EjOWvN8nHh"
   },
   "source": [
    "## Part 4: Training and validation"
   ]
  },
  {
   "cell_type": "code",
   "execution_count": 21,
   "metadata": {
    "colab": {
     "base_uri": "https://localhost:8080/",
     "height": 490
    },
    "id": "nVBSNIYxPgUz",
    "outputId": "5d379d1b-b7cb-4e94-d364-855cf82c60d5"
   },
   "outputs": [
    {
     "data": {
      "image/png": "[encoded data removed]",
      "text/plain": [
       "<Figure size 640x480 with 1 Axes>"
      ]
     },
     "metadata": {},
     "output_type": "display_data"
    },
    {
     "name": "stdout",
     "output_type": "stream",
     "text": [
      "1\n"
     ]
    }
   ],
   "source": [
    "# run this to train the models\n",
    "knn_clf, best_k = u.fit_knn(X_train, Y_train, X_validate, Y_validate)\n",
    "print(best_k)"
   ]
  },
  {
   "cell_type": "markdown",
   "metadata": {
    "id": "z3MoXzHY8uJm"
   },
   "source": [
    "## Part 5: Analysis"
   ]
  },
  {
   "cell_type": "code",
   "execution_count": 22,
   "metadata": {
    "id": "OT0VPRDDRXQ3"
   },
   "outputs": [],
   "source": [
    "from sklearn.metrics import f1_score"
   ]
  },
  {
   "cell_type": "markdown",
   "metadata": {
    "id": "G6cy9TB2PgUz"
   },
   "source": [
    "### Part 5-A: Compute predictions and evaluate\n",
    "\n",
    "\n",
    "1. Predict the labels for the test set.\n",
    "2. Compute & print the average f1_score (or f_measure) in the dataset.\n",
    "\n",
    "Hint: Look at the documentation of Sklearn on how to do the predictions, evaluation, etc."
   ]
  },
  {
   "cell_type": "code",
   "execution_count": 23,
   "metadata": {
    "colab": {
     "base_uri": "https://localhost:8080/"
    },
    "id": "YbosTOMJSHnG",
    "outputId": "ced9b5d4-0e7c-424a-bd4e-5fb16d2e4e33"
   },
   "outputs": [
    {
     "data": {
      "text/plain": [
       "0.6086601307189542"
      ]
     },
     "execution_count": 23,
     "metadata": {},
     "output_type": "execute_result"
    }
   ],
   "source": [
    "# YOUR CODE HERE\n",
    "Y_pred = knn_clf.predict(X_test)\n",
    "f1_score(Y_test, Y_pred, average='micro')"
   ]
  },
  {
   "cell_type": "markdown",
   "metadata": {
    "id": "bjVkbCi2SHnH"
   },
   "source": [
    "`# YOUR RESPONSE HERE`"
   ]
  },
  {
   "cell_type": "markdown",
   "metadata": {
    "id": "gsyJ9WDFRms5"
   },
   "source": [
    "### Part 5-B: Compute a confusion matrix\n",
    "1. Compute the confusion matrix (use `sklearn.metrics.confusion_matrix`)\n",
    "2. Plot the confusion matrix (see the example [here](https://scikit-learn.org/stable/auto_examples/model_selection/plot_confusion_matrix.html#sphx-glr-auto-examples-model-selection-plot-confusion-matrix-py)).\n"
   ]
  },
  {
   "cell_type": "code",
   "execution_count": 29,
   "metadata": {
    "colab": {
     "base_uri": "https://localhost:8080/",
     "height": 735
    },
    "id": "UT4nBKc-SHAv",
    "outputId": "18e20312-8527-4294-c07d-289eceaba519"
   },
   "outputs": [
    {
     "name": "stdout",
     "output_type": "stream",
     "text": [
      "[[0.02696078 0.00081699 0.00326797 0.00408497 0.01633987 0.\n",
      "  0.00081699 0.00735294]\n",
      " [0.         0.0620915  0.00081699 0.         0.0130719  0.\n",
      "  0.         0.00245098]\n",
      " [0.00081699 0.         0.07679739 0.         0.00081699 0.00163399\n",
      "  0.         0.0130719 ]\n",
      " [0.02369281 0.00408497 0.0130719  0.02696078 0.09640523 0.\n",
      "  0.00081699 0.09395425]\n",
      " [0.         0.00081699 0.00081699 0.         0.20506536 0.\n",
      "  0.         0.00653595]\n",
      " [0.         0.00735294 0.00245098 0.         0.00980392 0.00081699\n",
      "  0.         0.00571895]\n",
      " [0.00163399 0.         0.00163399 0.00408497 0.00081699 0.\n",
      "  0.01552288 0.00980392]\n",
      " [0.00245098 0.00816993 0.00163399 0.00408497 0.0245098  0.\n",
      "  0.00163399 0.19444444]]\n"
     ]
    },
    {
     "data": {
      "image/png": "[encoded data removed]",
      "text/plain": [
       "<Figure size 640x480 with 2 Axes>"
      ]
     },
     "metadata": {},
     "output_type": "display_data"
    }
   ],
   "source": [
    "# YOUR CODE HERE\n",
    "from sklearn.metrics import classification_report, confusion_matrix, ConfusionMatrixDisplay\n",
    "print(confusion_matrix(Y_test, Y_pred, normalize=\"all\", labels=knn_clf.classes_))\n",
    "cm = confusion_matrix(Y_test, Y_pred, normalize=\"all\", labels=knn_clf.classes_)\n",
    "disp = ConfusionMatrixDisplay(confusion_matrix=cm, display_labels=knn_clf.classes_)\n",
    "disp.plot()\n",
    "plt.show()"
   ]
  },
  {
   "cell_type": "code",
   "execution_count": 26,
   "metadata": {
    "colab": {
     "base_uri": "https://localhost:8080/"
    },
    "id": "j01prS7UYJ76",
    "outputId": "21bb13da-92c6-4510-964f-638100eab08d"
   },
   "outputs": [
    {
     "name": "stdout",
     "output_type": "stream",
     "text": [
      "                           precision    recall  f1-score   support\n",
      "\n",
      "                 Clarinet       0.49      0.45      0.47        73\n",
      "Distorted electric guitar       0.75      0.79      0.77        96\n",
      "            Female singer       0.76      0.82      0.79       114\n",
      "                    Flute       0.69      0.10      0.18       317\n",
      "                    Piano       0.56      0.96      0.71       261\n",
      "          Tenor saxophone       0.33      0.03      0.06        32\n",
      "                  Trumpet       0.83      0.46      0.59        41\n",
      "                   Violin       0.58      0.82      0.68       290\n",
      "\n",
      "                 accuracy                           0.61      1224\n",
      "                macro avg       0.62      0.56      0.53      1224\n",
      "             weighted avg       0.63      0.61      0.54      1224\n",
      "\n"
     ]
    }
   ],
   "source": [
    "target_names = ['Clarinet', 'Distorted electric guitar', 'Female singer', 'Flute', 'Piano', 'Tenor saxophone', 'Trumpet', 'Violin']\n",
    "print(classification_report(Y_test, Y_pred, target_names=target_names))"
   ]
  },
  {
   "cell_type": "markdown",
   "metadata": {
    "id": "Wap3pUFbSHA-"
   },
   "source": [
    "`# YOUR RESPONSE HERE`"
   ]
  },
  {
   "cell_type": "markdown",
   "metadata": {
    "id": "JvcfAWYVPgU0"
   },
   "source": [
    "### Part 5-C: Perform Error Analysis\n",
    "\n",
    "\n",
    "1. Which instrument class has the best & worst performance?\n",
    "2. For the worst source, what other sources are commonly confused? Why?\n",
    "3. Listen to the audio for examples the classifier got wrong. What do they have in common?\n",
    "\n",
    "Hint: to listen to the audio you can use `ipd.Audio` from `IPython.display`."
   ]
  },
  {
   "cell_type": "markdown",
   "metadata": {
    "id": "1GHao7-_fK71"
   },
   "source": [
    "`# YOUR RESPONSE HERE`\n",
    "ANSWERS:\n",
    "1. Female singer has the highest evaluation score. The worst performance will be Tenor saxophone.\n",
    "2. Flute is commonly confused as piano and violin. In the confusion matric, their False Positive are relatively high."
   ]
  },
  {
   "cell_type": "code",
   "execution_count": null,
   "metadata": {
    "id": "zU41OIEYRmP2"
   },
   "outputs": [],
   "source": []
  }
 ],
 "metadata": {
  "colab": {
   "provenance": []
  },
  "kernelspec": {
   "display_name": "Python 3 (ipykernel)",
   "language": "python",
   "name": "python3"
  },
  "language_info": {
   "codemirror_mode": {
    "name": "ipython",
    "version": 3
   },
   "file_extension": ".py",
   "mimetype": "text/x-python",
   "name": "python",
   "nbconvert_exporter": "python",
   "pygments_lexer": "ipython3",
   "version": "3.11.5"
  }
 },
 "nbformat": 4,
 "nbformat_minor": 1
}
